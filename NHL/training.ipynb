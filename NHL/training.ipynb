{
 "cells": [
  {
   "cell_type": "code",
   "execution_count": 1,
   "metadata": {},
   "outputs": [
    {
     "name": "stderr",
     "output_type": "stream",
     "text": [
      "Using TensorFlow backend.\n"
     ]
    }
   ],
   "source": [
    "# My stuff\n",
    "from utils.training import DataGenerator, Engine, plot_results, make_model\n",
    "\n",
    "# Tensorflow and Keras stuff\n",
    "from keras.optimizers import Adam, Adadelta\n",
    "from keras.callbacks import ModelCheckpoint\n",
    "from keras import backend as K\n",
    "\n",
    "\n",
    "# Modelling and Metrics\n",
    "from sklearn.metrics import (confusion_matrix, accuracy_score, roc_curve, roc_auc_score, precision_recall_curve,\n",
    "                             f1_score, auc, average_precision_score, matthews_corrcoef, recall_score, precision_score)\n",
    "\n",
    "# Regular stuff\n",
    "import os\n",
    "import numpy as np\n",
    "import pandas as pd\n",
    "\n"
   ]
  },
  {
   "cell_type": "code",
   "execution_count": 20,
   "metadata": {},
   "outputs": [],
   "source": [
    "#K.clear_session()\n",
    "# Make our model for the cap hit predictions\n",
    "model_cap = make_model(prediction_type = 'cap_hit', \n",
    "                       lstm_layers = [64, 64, 32], \n",
    "                       dense_layers= [20, 20, 20],\n",
    "                       activation = 'relu')"
   ]
  },
  {
   "cell_type": "code",
   "execution_count": 3,
   "metadata": {},
   "outputs": [
    {
     "name": "stderr",
     "output_type": "stream",
     "text": [
      "C:\\Users\\linds\\Anaconda3\\envs\\datascience\\lib\\site-packages\\sklearn\\utils\\validation.py:595: DataConversionWarning: Data with input dtype int64 was converted to float64 by MinMaxScaler.\n",
      "  warnings.warn(msg, DataConversionWarning)\n"
     ]
    }
   ],
   "source": [
    "# Import the data to train it with\n",
    "# Note that I think here we only need the 'matched csv' for contract stats\n",
    "# The other 2 contain more skaters who haven't necessarily had a standard contract yet\n",
    "data_gen_cap = DataGenerator('./data/player_stats.csv',\n",
    "                            './data/contract_stats_matched.csv',\n",
    "                            './data/game_stats.csv',\n",
    "                            prediction_type = 'cap_hit',\n",
    "                            batch_size = 20)"
   ]
  },
  {
   "cell_type": "code",
   "execution_count": 21,
   "metadata": {},
   "outputs": [],
   "source": [
    "# Select an optimizer\n",
    "optim = Adam()"
   ]
  },
  {
   "cell_type": "code",
   "execution_count": 22,
   "metadata": {},
   "outputs": [],
   "source": [
    "# Create a training engine\n",
    "engine_cap = Engine(model=model_cap, \n",
    "                    data_generator=data_gen_cap, \n",
    "                    optimizer=optim, \n",
    "                    prediction_type = 'cap_hit')"
   ]
  },
  {
   "cell_type": "markdown",
   "metadata": {},
   "source": [
    "Let's have a quick look at what this model actually looks like. \n",
    "\n",
    "We have some time series data (every players season before their contract), \n",
    "but we also have some data that doesn't change from season to season (position, signing age, how they shoot, etc)\n",
    "\n",
    "So we'll try a silly model: a LSTM recurrent NN that will join up with the non series data at the end. "
   ]
  },
  {
   "cell_type": "code",
   "execution_count": 47,
   "metadata": {},
   "outputs": [],
   "source": [
    "engine_cap.load_model('./models/cap_hit_model_run_noTB')"
   ]
  },
  {
   "cell_type": "code",
   "execution_count": 11,
   "metadata": {},
   "outputs": [
    {
     "name": "stdout",
     "output_type": "stream",
     "text": [
      "__________________________________________________________________________________________________\n",
      "Layer (type)                    Output Shape         Param #     Connected to                     \n",
      "==================================================================================================\n",
      "input_1 (InputLayer)            (None, None, 105)    0                                            \n",
      "__________________________________________________________________________________________________\n",
      "lstm_1 (LSTM)                   (None, None, 64)     43520       input_1[0][0]                    \n",
      "__________________________________________________________________________________________________\n",
      "lstm_2 (LSTM)                   (None, None, 64)     33024       lstm_1[0][0]                     \n",
      "__________________________________________________________________________________________________\n",
      "lstm_3 (LSTM)                   (None, 32)           12416       lstm_2[0][0]                     \n",
      "__________________________________________________________________________________________________\n",
      "input_2 (InputLayer)            (None, 8)            0                                            \n",
      "__________________________________________________________________________________________________\n",
      "concatenate_1 (Concatenate)     (None, 40)           0           lstm_3[0][0]                     \n",
      "                                                                 input_2[0][0]                    \n",
      "__________________________________________________________________________________________________\n",
      "dense_1 (Dense)                 (None, 20)           820         concatenate_1[0][0]              \n",
      "__________________________________________________________________________________________________\n",
      "activation_1 (Activation)       (None, 20)           0           dense_1[0][0]                    \n",
      "__________________________________________________________________________________________________\n",
      "dense_2 (Dense)                 (None, 20)           420         activation_1[0][0]               \n",
      "__________________________________________________________________________________________________\n",
      "activation_2 (Activation)       (None, 20)           0           dense_2[0][0]                    \n",
      "__________________________________________________________________________________________________\n",
      "dense_3 (Dense)                 (None, 20)           420         activation_2[0][0]               \n",
      "__________________________________________________________________________________________________\n",
      "activation_3 (Activation)       (None, 20)           0           dense_3[0][0]                    \n",
      "__________________________________________________________________________________________________\n",
      "dense_4 (Dense)                 (None, 1)            21          activation_3[0][0]               \n",
      "==================================================================================================\n",
      "Total params: 90,641\n",
      "Trainable params: 90,641\n",
      "Non-trainable params: 0\n",
      "__________________________________________________________________________________________________\n"
     ]
    }
   ],
   "source": [
    "engine_cap.model_summary(0)"
   ]
  },
  {
   "cell_type": "code",
   "execution_count": 9,
   "metadata": {},
   "outputs": [
    {
     "data": {
      "image/svg+xml": [
       "<svg height=\"848pt\" viewBox=\"0.00 0.00 264.00 848.00\" width=\"264pt\" xmlns=\"http://www.w3.org/2000/svg\" xmlns:xlink=\"http://www.w3.org/1999/xlink\">\n",
       "<g class=\"graph\" id=\"graph0\" transform=\"scale(1 1) rotate(0) translate(4 844)\">\n",
       "<title>G</title>\n",
       "<polygon fill=\"white\" points=\"-4,4 -4,-844 260,-844 260,4 -4,4\" stroke=\"none\"/>\n",
       "<!-- 2483246512448 -->\n",
       "<g class=\"node\" id=\"node1\"><title>2483246512448</title>\n",
       "<polygon fill=\"none\" points=\"0,-803.5 0,-839.5 126,-839.5 126,-803.5 0,-803.5\" stroke=\"black\"/>\n",
       "<text font-family=\"Times New Roman,serif\" font-size=\"14.00\" text-anchor=\"middle\" x=\"63\" y=\"-817.8\">input_1: InputLayer</text>\n",
       "</g>\n",
       "<!-- 2483246079672 -->\n",
       "<g class=\"node\" id=\"node2\"><title>2483246079672</title>\n",
       "<polygon fill=\"none\" points=\"14,-730.5 14,-766.5 112,-766.5 112,-730.5 14,-730.5\" stroke=\"black\"/>\n",
       "<text font-family=\"Times New Roman,serif\" font-size=\"14.00\" text-anchor=\"middle\" x=\"63\" y=\"-744.8\">lstm_1: LSTM</text>\n",
       "</g>\n",
       "<!-- 2483246512448&#45;&gt;2483246079672 -->\n",
       "<g class=\"edge\" id=\"edge1\"><title>2483246512448-&gt;2483246079672</title>\n",
       "<path d=\"M63,-803.313C63,-795.289 63,-785.547 63,-776.569\" fill=\"none\" stroke=\"black\"/>\n",
       "<polygon fill=\"black\" points=\"66.5001,-776.529 63,-766.529 59.5001,-776.529 66.5001,-776.529\" stroke=\"black\"/>\n",
       "</g>\n",
       "<!-- 2483246513792 -->\n",
       "<g class=\"node\" id=\"node3\"><title>2483246513792</title>\n",
       "<polygon fill=\"none\" points=\"14,-657.5 14,-693.5 112,-693.5 112,-657.5 14,-657.5\" stroke=\"black\"/>\n",
       "<text font-family=\"Times New Roman,serif\" font-size=\"14.00\" text-anchor=\"middle\" x=\"63\" y=\"-671.8\">lstm_2: LSTM</text>\n",
       "</g>\n",
       "<!-- 2483246079672&#45;&gt;2483246513792 -->\n",
       "<g class=\"edge\" id=\"edge2\"><title>2483246079672-&gt;2483246513792</title>\n",
       "<path d=\"M63,-730.313C63,-722.289 63,-712.547 63,-703.569\" fill=\"none\" stroke=\"black\"/>\n",
       "<polygon fill=\"black\" points=\"66.5001,-703.529 63,-693.529 59.5001,-703.529 66.5001,-703.529\" stroke=\"black\"/>\n",
       "</g>\n",
       "<!-- 2483246513680 -->\n",
       "<g class=\"node\" id=\"node4\"><title>2483246513680</title>\n",
       "<polygon fill=\"none\" points=\"14,-584.5 14,-620.5 112,-620.5 112,-584.5 14,-584.5\" stroke=\"black\"/>\n",
       "<text font-family=\"Times New Roman,serif\" font-size=\"14.00\" text-anchor=\"middle\" x=\"63\" y=\"-598.8\">lstm_3: LSTM</text>\n",
       "</g>\n",
       "<!-- 2483246513792&#45;&gt;2483246513680 -->\n",
       "<g class=\"edge\" id=\"edge3\"><title>2483246513792-&gt;2483246513680</title>\n",
       "<path d=\"M63,-657.313C63,-649.289 63,-639.547 63,-630.569\" fill=\"none\" stroke=\"black\"/>\n",
       "<polygon fill=\"black\" points=\"66.5001,-630.529 63,-620.529 59.5001,-630.529 66.5001,-630.529\" stroke=\"black\"/>\n",
       "</g>\n",
       "<!-- 2483276251376 -->\n",
       "<g class=\"node\" id=\"node6\"><title>2483276251376</title>\n",
       "<polygon fill=\"none\" points=\"41.5,-511.5 41.5,-547.5 214.5,-547.5 214.5,-511.5 41.5,-511.5\" stroke=\"black\"/>\n",
       "<text font-family=\"Times New Roman,serif\" font-size=\"14.00\" text-anchor=\"middle\" x=\"128\" y=\"-525.8\">concatenate_1: Concatenate</text>\n",
       "</g>\n",
       "<!-- 2483246513680&#45;&gt;2483276251376 -->\n",
       "<g class=\"edge\" id=\"edge4\"><title>2483246513680-&gt;2483276251376</title>\n",
       "<path d=\"M78.7347,-584.313C86.7986,-575.505 96.7588,-564.625 105.608,-554.958\" fill=\"none\" stroke=\"black\"/>\n",
       "<polygon fill=\"black\" points=\"108.239,-557.268 112.41,-547.529 103.076,-552.541 108.239,-557.268\" stroke=\"black\"/>\n",
       "</g>\n",
       "<!-- 2483246079504 -->\n",
       "<g class=\"node\" id=\"node5\"><title>2483246079504</title>\n",
       "<polygon fill=\"none\" points=\"130,-584.5 130,-620.5 256,-620.5 256,-584.5 130,-584.5\" stroke=\"black\"/>\n",
       "<text font-family=\"Times New Roman,serif\" font-size=\"14.00\" text-anchor=\"middle\" x=\"193\" y=\"-598.8\">input_2: InputLayer</text>\n",
       "</g>\n",
       "<!-- 2483246079504&#45;&gt;2483276251376 -->\n",
       "<g class=\"edge\" id=\"edge5\"><title>2483246079504-&gt;2483276251376</title>\n",
       "<path d=\"M177.265,-584.313C169.201,-575.505 159.241,-564.625 150.392,-554.958\" fill=\"none\" stroke=\"black\"/>\n",
       "<polygon fill=\"black\" points=\"152.924,-552.541 143.59,-547.529 147.761,-557.268 152.924,-552.541\" stroke=\"black\"/>\n",
       "</g>\n",
       "<!-- 2483276254904 -->\n",
       "<g class=\"node\" id=\"node7\"><title>2483276254904</title>\n",
       "<polygon fill=\"none\" points=\"76,-438.5 76,-474.5 180,-474.5 180,-438.5 76,-438.5\" stroke=\"black\"/>\n",
       "<text font-family=\"Times New Roman,serif\" font-size=\"14.00\" text-anchor=\"middle\" x=\"128\" y=\"-452.8\">dense_1: Dense</text>\n",
       "</g>\n",
       "<!-- 2483276251376&#45;&gt;2483276254904 -->\n",
       "<g class=\"edge\" id=\"edge6\"><title>2483276251376-&gt;2483276254904</title>\n",
       "<path d=\"M128,-511.313C128,-503.289 128,-493.547 128,-484.569\" fill=\"none\" stroke=\"black\"/>\n",
       "<polygon fill=\"black\" points=\"131.5,-484.529 128,-474.529 124.5,-484.529 131.5,-484.529\" stroke=\"black\"/>\n",
       "</g>\n",
       "<!-- 2483278918432 -->\n",
       "<g class=\"node\" id=\"node8\"><title>2483278918432</title>\n",
       "<polygon fill=\"none\" points=\"54,-365.5 54,-401.5 202,-401.5 202,-365.5 54,-365.5\" stroke=\"black\"/>\n",
       "<text font-family=\"Times New Roman,serif\" font-size=\"14.00\" text-anchor=\"middle\" x=\"128\" y=\"-379.8\">activation_1: Activation</text>\n",
       "</g>\n",
       "<!-- 2483276254904&#45;&gt;2483278918432 -->\n",
       "<g class=\"edge\" id=\"edge7\"><title>2483276254904-&gt;2483278918432</title>\n",
       "<path d=\"M128,-438.313C128,-430.289 128,-420.547 128,-411.569\" fill=\"none\" stroke=\"black\"/>\n",
       "<polygon fill=\"black\" points=\"131.5,-411.529 128,-401.529 124.5,-411.529 131.5,-411.529\" stroke=\"black\"/>\n",
       "</g>\n",
       "<!-- 2483279454560 -->\n",
       "<g class=\"node\" id=\"node9\"><title>2483279454560</title>\n",
       "<polygon fill=\"none\" points=\"76,-292.5 76,-328.5 180,-328.5 180,-292.5 76,-292.5\" stroke=\"black\"/>\n",
       "<text font-family=\"Times New Roman,serif\" font-size=\"14.00\" text-anchor=\"middle\" x=\"128\" y=\"-306.8\">dense_2: Dense</text>\n",
       "</g>\n",
       "<!-- 2483278918432&#45;&gt;2483279454560 -->\n",
       "<g class=\"edge\" id=\"edge8\"><title>2483278918432-&gt;2483279454560</title>\n",
       "<path d=\"M128,-365.313C128,-357.289 128,-347.547 128,-338.569\" fill=\"none\" stroke=\"black\"/>\n",
       "<polygon fill=\"black\" points=\"131.5,-338.529 128,-328.529 124.5,-338.529 131.5,-338.529\" stroke=\"black\"/>\n",
       "</g>\n",
       "<!-- 2483279644208 -->\n",
       "<g class=\"node\" id=\"node10\"><title>2483279644208</title>\n",
       "<polygon fill=\"none\" points=\"54,-219.5 54,-255.5 202,-255.5 202,-219.5 54,-219.5\" stroke=\"black\"/>\n",
       "<text font-family=\"Times New Roman,serif\" font-size=\"14.00\" text-anchor=\"middle\" x=\"128\" y=\"-233.8\">activation_2: Activation</text>\n",
       "</g>\n",
       "<!-- 2483279454560&#45;&gt;2483279644208 -->\n",
       "<g class=\"edge\" id=\"edge9\"><title>2483279454560-&gt;2483279644208</title>\n",
       "<path d=\"M128,-292.313C128,-284.289 128,-274.547 128,-265.569\" fill=\"none\" stroke=\"black\"/>\n",
       "<polygon fill=\"black\" points=\"131.5,-265.529 128,-255.529 124.5,-265.529 131.5,-265.529\" stroke=\"black\"/>\n",
       "</g>\n",
       "<!-- 2483279645608 -->\n",
       "<g class=\"node\" id=\"node11\"><title>2483279645608</title>\n",
       "<polygon fill=\"none\" points=\"76,-146.5 76,-182.5 180,-182.5 180,-146.5 76,-146.5\" stroke=\"black\"/>\n",
       "<text font-family=\"Times New Roman,serif\" font-size=\"14.00\" text-anchor=\"middle\" x=\"128\" y=\"-160.8\">dense_3: Dense</text>\n",
       "</g>\n",
       "<!-- 2483279644208&#45;&gt;2483279645608 -->\n",
       "<g class=\"edge\" id=\"edge10\"><title>2483279644208-&gt;2483279645608</title>\n",
       "<path d=\"M128,-219.313C128,-211.289 128,-201.547 128,-192.569\" fill=\"none\" stroke=\"black\"/>\n",
       "<polygon fill=\"black\" points=\"131.5,-192.529 128,-182.529 124.5,-192.529 131.5,-192.529\" stroke=\"black\"/>\n",
       "</g>\n",
       "<!-- 2483279822576 -->\n",
       "<g class=\"node\" id=\"node12\"><title>2483279822576</title>\n",
       "<polygon fill=\"none\" points=\"54,-73.5 54,-109.5 202,-109.5 202,-73.5 54,-73.5\" stroke=\"black\"/>\n",
       "<text font-family=\"Times New Roman,serif\" font-size=\"14.00\" text-anchor=\"middle\" x=\"128\" y=\"-87.8\">activation_3: Activation</text>\n",
       "</g>\n",
       "<!-- 2483279645608&#45;&gt;2483279822576 -->\n",
       "<g class=\"edge\" id=\"edge11\"><title>2483279645608-&gt;2483279822576</title>\n",
       "<path d=\"M128,-146.313C128,-138.289 128,-128.547 128,-119.569\" fill=\"none\" stroke=\"black\"/>\n",
       "<polygon fill=\"black\" points=\"131.5,-119.529 128,-109.529 124.5,-119.529 131.5,-119.529\" stroke=\"black\"/>\n",
       "</g>\n",
       "<!-- 2483278492672 -->\n",
       "<g class=\"node\" id=\"node13\"><title>2483278492672</title>\n",
       "<polygon fill=\"none\" points=\"76,-0.5 76,-36.5 180,-36.5 180,-0.5 76,-0.5\" stroke=\"black\"/>\n",
       "<text font-family=\"Times New Roman,serif\" font-size=\"14.00\" text-anchor=\"middle\" x=\"128\" y=\"-14.8\">dense_4: Dense</text>\n",
       "</g>\n",
       "<!-- 2483279822576&#45;&gt;2483278492672 -->\n",
       "<g class=\"edge\" id=\"edge12\"><title>2483279822576-&gt;2483278492672</title>\n",
       "<path d=\"M128,-73.3129C128,-65.2895 128,-55.5475 128,-46.5691\" fill=\"none\" stroke=\"black\"/>\n",
       "<polygon fill=\"black\" points=\"131.5,-46.5288 128,-36.5288 124.5,-46.5289 131.5,-46.5288\" stroke=\"black\"/>\n",
       "</g>\n",
       "</g>\n",
       "</svg>"
      ],
      "text/plain": [
       "<IPython.core.display.SVG object>"
      ]
     },
     "execution_count": 9,
     "metadata": {},
     "output_type": "execute_result"
    }
   ],
   "source": [
    "engine_cap.model_summary(1, './figs/cap_hit_model.png')"
   ]
  },
  {
   "cell_type": "code",
   "execution_count": 23,
   "metadata": {},
   "outputs": [
    {
     "name": "stdout",
     "output_type": "stream",
     "text": [
      "Epoch 1/30\n",
      "120/120 [==============================] - 17s 142ms/step - loss: 7.2708e-04 - val_loss: 3.8408e-04\n",
      "Epoch 2/30\n",
      "120/120 [==============================] - 12s 103ms/step - loss: 3.6382e-04 - val_loss: 3.2937e-04\n",
      "Epoch 3/30\n",
      "120/120 [==============================] - 13s 112ms/step - loss: 3.0841e-04 - val_loss: 3.6062e-04\n",
      "Epoch 4/30\n",
      "120/120 [==============================] - 16s 133ms/step - loss: 2.8622e-04 - val_loss: 2.9613e-04\n",
      "Epoch 5/30\n",
      "120/120 [==============================] - 14s 115ms/step - loss: 2.6190e-04 - val_loss: 3.0014e-04\n",
      "Epoch 6/30\n",
      "120/120 [==============================] - 14s 116ms/step - loss: 2.3997e-04 - val_loss: 2.7864e-04\n",
      "Epoch 7/30\n",
      "120/120 [==============================] - 14s 121ms/step - loss: 2.2503e-04 - val_loss: 2.7528e-04\n",
      "Epoch 8/30\n",
      "120/120 [==============================] - 14s 119ms/step - loss: 2.2760e-04 - val_loss: 2.6644e-04\n",
      "Epoch 9/30\n",
      "120/120 [==============================] - 15s 124ms/step - loss: 2.1716e-04 - val_loss: 2.6123e-04\n",
      "Epoch 10/30\n",
      "120/120 [==============================] - 13s 109ms/step - loss: 2.0594e-04 - val_loss: 3.1248e-04\n",
      "Epoch 11/30\n",
      "120/120 [==============================] - 14s 118ms/step - loss: 2.1994e-04 - val_loss: 2.4610e-04\n",
      "Epoch 12/30\n",
      "120/120 [==============================] - 15s 127ms/step - loss: 2.0494e-04 - val_loss: 2.4133e-04\n",
      "Epoch 13/30\n",
      "120/120 [==============================] - 14s 114ms/step - loss: 2.1635e-04 - val_loss: 2.5398e-04\n",
      "Epoch 14/30\n",
      "120/120 [==============================] - 13s 109ms/step - loss: 1.9098e-04 - val_loss: 2.4172e-04\n",
      "Epoch 15/30\n",
      "120/120 [==============================] - 14s 115ms/step - loss: 2.0142e-04 - val_loss: 2.5561e-04\n"
     ]
    }
   ],
   "source": [
    "# Let's run through this once to see how we do\n",
    "run_id = 'noTB'\n",
    "engine_cap.fit(epochs=30, early_stopping=True, verbose=1)"
   ]
  },
  {
   "cell_type": "code",
   "execution_count": 24,
   "metadata": {},
   "outputs": [
    {
     "data": {
      "image/png": "[encoded data removed]",
      "text/plain": [
       "<Figure size 432x288 with 1 Axes>"
      ]
     },
     "metadata": {
      "needs_background": "light"
     },
     "output_type": "display_data"
    }
   ],
   "source": [
    "# Look at the loss evolution\n",
    "engine_cap.plot_history(validation=True, \n",
    "                        save_file='./figs/cap_hit_losses_run_{:s}.png'.format(str(run_id)), \n",
    "                        display=True)"
   ]
  },
  {
   "cell_type": "code",
   "execution_count": 26,
   "metadata": {},
   "outputs": [
    {
     "name": "stdout",
     "output_type": "stream",
     "text": [
      "Current Cap:           81.500 M\n",
      "Total Contract Value:  65.207 M\n",
      "Expected Cap Hit:      9.315 M\n",
      "Percentage of Cap:     11.430 %\n"
     ]
    }
   ],
   "source": [
    "# Make a prediction for a new player\n",
    "predict = engine_cap.predict(player_name='Mitchell Marner', \n",
    "                   signing_date=(4,7,2019), \n",
    "                   signing_status=1, \n",
    "                   length=7, \n",
    "                   verbose=True)"
   ]
  },
  {
   "cell_type": "code",
   "execution_count": 27,
   "metadata": {},
   "outputs": [],
   "source": [
    "# Finally, we can save the model\n",
    "engine_cap.save_model('models/cap_hit_model_run_{:s}'.format(str(run_id)))"
   ]
  },
  {
   "cell_type": "code",
   "execution_count": 58,
   "metadata": {},
   "outputs": [
    {
     "name": "stdout",
     "output_type": "stream",
     "text": [
      "Model Prediction for Artemi Panarin: \n",
      "Model: 0 ** Cap Hit: 10.802\n",
      "Model: 1 ** Cap Hit: 8.942\n",
      "Model: 2 ** Cap Hit: 8.315\n",
      "Model: 3 ** Cap Hit: 9.530\n",
      "Model: 4 ** Cap Hit: 10.828\n",
      "Model: 5 ** Cap Hit: 9.216\n",
      "Model: 6 ** Cap Hit: 10.046\n",
      "Model: 7 ** Cap Hit: 9.102\n",
      "Model: 8 ** Cap Hit: 10.362\n",
      "Model: 9 ** Cap Hit: 9.734\n",
      "Model: 10 ** Cap Hit: 10.342\n",
      "Model: 11 ** Cap Hit: 8.747\n",
      "Model: 12 ** Cap Hit: 10.149\n",
      "Model: 13 ** Cap Hit: 11.794\n",
      "Model: 14 ** Cap Hit: 8.989\n",
      "Model: 15 ** Cap Hit: 8.676\n",
      "Model: 16 ** Cap Hit: 10.433\n",
      "Model: 17 ** Cap Hit: 10.863\n",
      "Model: 18 ** Cap Hit: 7.239\n",
      "Model: 19 ** Cap Hit: 9.173\n",
      "Salary Average: 9.664\n",
      "Salary St Dev: 1.045\n"
     ]
    }
   ],
   "source": [
    "# Now do a bunch of runs with tensorboard on (to look at later, or in real time!), \n",
    "# save all the models \n",
    "# and get an average estimate for one player\n",
    "num_models = 20\n",
    "num_epochs = 50\n",
    "artemi_avg = np.empty(num_models)\n",
    "print('Model Prediction for Artemi Panarin: ')\n",
    "for ii in range(num_models):\n",
    "    K.clear_session()\n",
    "    model_cap = make_model(prediction_type = 'cap_hit', \n",
    "                           lstm_layers = [64, 64, 32], \n",
    "                           dense_layers= [20, 20, 20],\n",
    "                           activation = 'relu')\n",
    "    \n",
    "    optim = Adam()\n",
    "    \n",
    "    engine = Engine(model_cap, data_gen_cap, optim, prediction_type = 'cap_hit')\n",
    "    \n",
    "    tensorboard=True\n",
    "    base_dir = 'cap_hit_logs'\n",
    "    run_id = 'noTB'\n",
    "    if tensorboard:\n",
    "        log_dir = os.path.join('./logs', base_dir)\n",
    "        run_id = len([name for name in os.listdir(log_dir)])\n",
    "    engine.fit(num_epochs, tensorboard=tensorboard, early_stopping=True, verbose=0)\n",
    "    engine.plot_history(True, './figs/cap_hit_losses_run_{:s}.png'.format(str(run_id)), False)\n",
    "    engine.save_model('models/cap_hit_model_run_{:s}'.format(str(run_id)))\n",
    "    \n",
    "    predictions = engine.predict('Artemi Panarin', (4,7,2019), 1, 7, False)\n",
    "    artemi_avg[ii] = predictions[0]\n",
    "    \n",
    "    print('Model: {:d} ** Cap Hit: {:0.3f}'.format(run_id, predictions[0]/1e6))\n",
    "    \n",
    "print('Salary Average: {:0.3f}'.format(np.mean(artemi_avg)/1e6))\n",
    "print('Salary St Dev: {:0.3f}'.format(np.std(artemi_avg)/1e6))"
   ]
  },
  {
   "cell_type": "code",
   "execution_count": 15,
   "metadata": {},
   "outputs": [
    {
     "name": "stderr",
     "output_type": "stream",
     "text": [
      "C:\\Users\\linds\\Anaconda3\\envs\\datascience\\lib\\site-packages\\sklearn\\utils\\validation.py:595: DataConversionWarning: Data with input dtype int64 was converted to float64 by MinMaxScaler.\n",
      "  warnings.warn(msg, DataConversionWarning)\n"
     ]
    }
   ],
   "source": [
    "# Now let's do this all but for the length of the contract \n",
    "# K.clear_session()\n",
    "# Model\n",
    "model_len = make_model(prediction_type = 'length', \n",
    "                       lstm_layers = [64, 64, 32], \n",
    "                       dense_layers= [20, 20, 20],\n",
    "                       activation = 'relu')\n",
    "\n",
    "# Data\n",
    "data_gen_length = DataGenerator('./data/player_stats.csv',\n",
    "                            './data/contract_stats_matched.csv',\n",
    "                            './data/game_stats.csv',\n",
    "                            prediction_type = 'length',\n",
    "                           batch_size = 20)\n",
    "\n",
    "# Optimizer\n",
    "optim = Adam()\n",
    "\n",
    "# Engine\n",
    "engine_length = Engine(model_len, data_gen_length, optim, prediction_type = 'length')"
   ]
  },
  {
   "cell_type": "code",
   "execution_count": 28,
   "metadata": {},
   "outputs": [
    {
     "name": "stdout",
     "output_type": "stream",
     "text": [
      "__________________________________________________________________________________________________\n",
      "Layer (type)                    Output Shape         Param #     Connected to                     \n",
      "==================================================================================================\n",
      "input_3 (InputLayer)            (None, None, 105)    0                                            \n",
      "__________________________________________________________________________________________________\n",
      "lstm_4 (LSTM)                   (None, None, 64)     43520       input_3[0][0]                    \n",
      "__________________________________________________________________________________________________\n",
      "lstm_5 (LSTM)                   (None, None, 64)     33024       lstm_4[0][0]                     \n",
      "__________________________________________________________________________________________________\n",
      "lstm_6 (LSTM)                   (None, 32)           12416       lstm_5[0][0]                     \n",
      "__________________________________________________________________________________________________\n",
      "input_4 (InputLayer)            (None, 7)            0                                            \n",
      "__________________________________________________________________________________________________\n",
      "concatenate_2 (Concatenate)     (None, 39)           0           lstm_6[0][0]                     \n",
      "                                                                 input_4[0][0]                    \n",
      "__________________________________________________________________________________________________\n",
      "dense_5 (Dense)                 (None, 20)           800         concatenate_2[0][0]              \n",
      "__________________________________________________________________________________________________\n",
      "activation_4 (Activation)       (None, 20)           0           dense_5[0][0]                    \n",
      "__________________________________________________________________________________________________\n",
      "dense_6 (Dense)                 (None, 20)           420         activation_4[0][0]               \n",
      "__________________________________________________________________________________________________\n",
      "activation_5 (Activation)       (None, 20)           0           dense_6[0][0]                    \n",
      "__________________________________________________________________________________________________\n",
      "dense_7 (Dense)                 (None, 20)           420         activation_5[0][0]               \n",
      "__________________________________________________________________________________________________\n",
      "activation_6 (Activation)       (None, 20)           0           dense_7[0][0]                    \n",
      "__________________________________________________________________________________________________\n",
      "dense_8 (Dense)                 (None, 8)            168         activation_6[0][0]               \n",
      "__________________________________________________________________________________________________\n",
      "activation_7 (Activation)       (None, 8)            0           dense_8[0][0]                    \n",
      "==================================================================================================\n",
      "Total params: 90,768\n",
      "Trainable params: 90,768\n",
      "Non-trainable params: 0\n",
      "__________________________________________________________________________________________________\n"
     ]
    }
   ],
   "source": [
    "# Visualize \n",
    "engine_length.model_summary(0)"
   ]
  },
  {
   "cell_type": "code",
   "execution_count": 19,
   "metadata": {},
   "outputs": [
    {
     "data": {
      "image/svg+xml": [
       "<svg height=\"921pt\" viewBox=\"0.00 0.00 264.00 921.00\" width=\"264pt\" xmlns=\"http://www.w3.org/2000/svg\" xmlns:xlink=\"http://www.w3.org/1999/xlink\">\n",
       "<g class=\"graph\" id=\"graph0\" transform=\"scale(1 1) rotate(0) translate(4 917)\">\n",
       "<title>G</title>\n",
       "<polygon fill=\"white\" points=\"-4,4 -4,-917 260,-917 260,4 -4,4\" stroke=\"none\"/>\n",
       "<!-- 2267394502552 -->\n",
       "<g class=\"node\" id=\"node1\"><title>2267394502552</title>\n",
       "<polygon fill=\"none\" points=\"0,-876.5 0,-912.5 126,-912.5 126,-876.5 0,-876.5\" stroke=\"black\"/>\n",
       "<text font-family=\"Times New Roman,serif\" font-size=\"14.00\" text-anchor=\"middle\" x=\"63\" y=\"-890.8\">input_3: InputLayer</text>\n",
       "</g>\n",
       "<!-- 2267394502272 -->\n",
       "<g class=\"node\" id=\"node2\"><title>2267394502272</title>\n",
       "<polygon fill=\"none\" points=\"14,-803.5 14,-839.5 112,-839.5 112,-803.5 14,-803.5\" stroke=\"black\"/>\n",
       "<text font-family=\"Times New Roman,serif\" font-size=\"14.00\" text-anchor=\"middle\" x=\"63\" y=\"-817.8\">lstm_4: LSTM</text>\n",
       "</g>\n",
       "<!-- 2267394502552&#45;&gt;2267394502272 -->\n",
       "<g class=\"edge\" id=\"edge1\"><title>2267394502552-&gt;2267394502272</title>\n",
       "<path d=\"M63,-876.313C63,-868.289 63,-858.547 63,-849.569\" fill=\"none\" stroke=\"black\"/>\n",
       "<polygon fill=\"black\" points=\"66.5001,-849.529 63,-839.529 59.5001,-849.529 66.5001,-849.529\" stroke=\"black\"/>\n",
       "</g>\n",
       "<!-- 2267394501824 -->\n",
       "<g class=\"node\" id=\"node3\"><title>2267394501824</title>\n",
       "<polygon fill=\"none\" points=\"14,-730.5 14,-766.5 112,-766.5 112,-730.5 14,-730.5\" stroke=\"black\"/>\n",
       "<text font-family=\"Times New Roman,serif\" font-size=\"14.00\" text-anchor=\"middle\" x=\"63\" y=\"-744.8\">lstm_5: LSTM</text>\n",
       "</g>\n",
       "<!-- 2267394502272&#45;&gt;2267394501824 -->\n",
       "<g class=\"edge\" id=\"edge2\"><title>2267394502272-&gt;2267394501824</title>\n",
       "<path d=\"M63,-803.313C63,-795.289 63,-785.547 63,-776.569\" fill=\"none\" stroke=\"black\"/>\n",
       "<polygon fill=\"black\" points=\"66.5001,-776.529 63,-766.529 59.5001,-776.529 66.5001,-776.529\" stroke=\"black\"/>\n",
       "</g>\n",
       "<!-- 2267394501712 -->\n",
       "<g class=\"node\" id=\"node4\"><title>2267394501712</title>\n",
       "<polygon fill=\"none\" points=\"14,-657.5 14,-693.5 112,-693.5 112,-657.5 14,-657.5\" stroke=\"black\"/>\n",
       "<text font-family=\"Times New Roman,serif\" font-size=\"14.00\" text-anchor=\"middle\" x=\"63\" y=\"-671.8\">lstm_6: LSTM</text>\n",
       "</g>\n",
       "<!-- 2267394501824&#45;&gt;2267394501712 -->\n",
       "<g class=\"edge\" id=\"edge3\"><title>2267394501824-&gt;2267394501712</title>\n",
       "<path d=\"M63,-730.313C63,-722.289 63,-712.547 63,-703.569\" fill=\"none\" stroke=\"black\"/>\n",
       "<polygon fill=\"black\" points=\"66.5001,-703.529 63,-693.529 59.5001,-703.529 66.5001,-703.529\" stroke=\"black\"/>\n",
       "</g>\n",
       "<!-- 2267430985512 -->\n",
       "<g class=\"node\" id=\"node6\"><title>2267430985512</title>\n",
       "<polygon fill=\"none\" points=\"41.5,-584.5 41.5,-620.5 214.5,-620.5 214.5,-584.5 41.5,-584.5\" stroke=\"black\"/>\n",
       "<text font-family=\"Times New Roman,serif\" font-size=\"14.00\" text-anchor=\"middle\" x=\"128\" y=\"-598.8\">concatenate_2: Concatenate</text>\n",
       "</g>\n",
       "<!-- 2267394501712&#45;&gt;2267430985512 -->\n",
       "<g class=\"edge\" id=\"edge4\"><title>2267394501712-&gt;2267430985512</title>\n",
       "<path d=\"M78.7347,-657.313C86.7986,-648.505 96.7588,-637.625 105.608,-627.958\" fill=\"none\" stroke=\"black\"/>\n",
       "<polygon fill=\"black\" points=\"108.239,-630.268 112.41,-620.529 103.076,-625.541 108.239,-630.268\" stroke=\"black\"/>\n",
       "</g>\n",
       "<!-- 2267394499864 -->\n",
       "<g class=\"node\" id=\"node5\"><title>2267394499864</title>\n",
       "<polygon fill=\"none\" points=\"130,-657.5 130,-693.5 256,-693.5 256,-657.5 130,-657.5\" stroke=\"black\"/>\n",
       "<text font-family=\"Times New Roman,serif\" font-size=\"14.00\" text-anchor=\"middle\" x=\"193\" y=\"-671.8\">input_4: InputLayer</text>\n",
       "</g>\n",
       "<!-- 2267394499864&#45;&gt;2267430985512 -->\n",
       "<g class=\"edge\" id=\"edge5\"><title>2267394499864-&gt;2267430985512</title>\n",
       "<path d=\"M177.265,-657.313C169.201,-648.505 159.241,-637.625 150.392,-627.958\" fill=\"none\" stroke=\"black\"/>\n",
       "<polygon fill=\"black\" points=\"152.924,-625.541 143.59,-620.529 147.761,-630.268 152.924,-625.541\" stroke=\"black\"/>\n",
       "</g>\n",
       "<!-- 2267433484128 -->\n",
       "<g class=\"node\" id=\"node7\"><title>2267433484128</title>\n",
       "<polygon fill=\"none\" points=\"76,-511.5 76,-547.5 180,-547.5 180,-511.5 76,-511.5\" stroke=\"black\"/>\n",
       "<text font-family=\"Times New Roman,serif\" font-size=\"14.00\" text-anchor=\"middle\" x=\"128\" y=\"-525.8\">dense_5: Dense</text>\n",
       "</g>\n",
       "<!-- 2267430985512&#45;&gt;2267433484128 -->\n",
       "<g class=\"edge\" id=\"edge6\"><title>2267430985512-&gt;2267433484128</title>\n",
       "<path d=\"M128,-584.313C128,-576.289 128,-566.547 128,-557.569\" fill=\"none\" stroke=\"black\"/>\n",
       "<polygon fill=\"black\" points=\"131.5,-557.529 128,-547.529 124.5,-557.529 131.5,-557.529\" stroke=\"black\"/>\n",
       "</g>\n",
       "<!-- 2267433664408 -->\n",
       "<g class=\"node\" id=\"node8\"><title>2267433664408</title>\n",
       "<polygon fill=\"none\" points=\"54,-438.5 54,-474.5 202,-474.5 202,-438.5 54,-438.5\" stroke=\"black\"/>\n",
       "<text font-family=\"Times New Roman,serif\" font-size=\"14.00\" text-anchor=\"middle\" x=\"128\" y=\"-452.8\">activation_4: Activation</text>\n",
       "</g>\n",
       "<!-- 2267433484128&#45;&gt;2267433664408 -->\n",
       "<g class=\"edge\" id=\"edge7\"><title>2267433484128-&gt;2267433664408</title>\n",
       "<path d=\"M128,-511.313C128,-503.289 128,-493.547 128,-484.569\" fill=\"none\" stroke=\"black\"/>\n",
       "<polygon fill=\"black\" points=\"131.5,-484.529 128,-474.529 124.5,-484.529 131.5,-484.529\" stroke=\"black\"/>\n",
       "</g>\n",
       "<!-- 2267433663344 -->\n",
       "<g class=\"node\" id=\"node9\"><title>2267433663344</title>\n",
       "<polygon fill=\"none\" points=\"76,-365.5 76,-401.5 180,-401.5 180,-365.5 76,-365.5\" stroke=\"black\"/>\n",
       "<text font-family=\"Times New Roman,serif\" font-size=\"14.00\" text-anchor=\"middle\" x=\"128\" y=\"-379.8\">dense_6: Dense</text>\n",
       "</g>\n",
       "<!-- 2267433664408&#45;&gt;2267433663344 -->\n",
       "<g class=\"edge\" id=\"edge8\"><title>2267433664408-&gt;2267433663344</title>\n",
       "<path d=\"M128,-438.313C128,-430.289 128,-420.547 128,-411.569\" fill=\"none\" stroke=\"black\"/>\n",
       "<polygon fill=\"black\" points=\"131.5,-411.529 128,-401.529 124.5,-411.529 131.5,-411.529\" stroke=\"black\"/>\n",
       "</g>\n",
       "<!-- 2267434941128 -->\n",
       "<g class=\"node\" id=\"node10\"><title>2267434941128</title>\n",
       "<polygon fill=\"none\" points=\"54,-292.5 54,-328.5 202,-328.5 202,-292.5 54,-292.5\" stroke=\"black\"/>\n",
       "<text font-family=\"Times New Roman,serif\" font-size=\"14.00\" text-anchor=\"middle\" x=\"128\" y=\"-306.8\">activation_5: Activation</text>\n",
       "</g>\n",
       "<!-- 2267433663344&#45;&gt;2267434941128 -->\n",
       "<g class=\"edge\" id=\"edge9\"><title>2267433663344-&gt;2267434941128</title>\n",
       "<path d=\"M128,-365.313C128,-357.289 128,-347.547 128,-338.569\" fill=\"none\" stroke=\"black\"/>\n",
       "<polygon fill=\"black\" points=\"131.5,-338.529 128,-328.529 124.5,-338.529 131.5,-338.529\" stroke=\"black\"/>\n",
       "</g>\n",
       "<!-- 2267434940400 -->\n",
       "<g class=\"node\" id=\"node11\"><title>2267434940400</title>\n",
       "<polygon fill=\"none\" points=\"76,-219.5 76,-255.5 180,-255.5 180,-219.5 76,-219.5\" stroke=\"black\"/>\n",
       "<text font-family=\"Times New Roman,serif\" font-size=\"14.00\" text-anchor=\"middle\" x=\"128\" y=\"-233.8\">dense_7: Dense</text>\n",
       "</g>\n",
       "<!-- 2267434941128&#45;&gt;2267434940400 -->\n",
       "<g class=\"edge\" id=\"edge10\"><title>2267434941128-&gt;2267434940400</title>\n",
       "<path d=\"M128,-292.313C128,-284.289 128,-274.547 128,-265.569\" fill=\"none\" stroke=\"black\"/>\n",
       "<polygon fill=\"black\" points=\"131.5,-265.529 128,-255.529 124.5,-265.529 131.5,-265.529\" stroke=\"black\"/>\n",
       "</g>\n",
       "<!-- 2267435099416 -->\n",
       "<g class=\"node\" id=\"node12\"><title>2267435099416</title>\n",
       "<polygon fill=\"none\" points=\"54,-146.5 54,-182.5 202,-182.5 202,-146.5 54,-146.5\" stroke=\"black\"/>\n",
       "<text font-family=\"Times New Roman,serif\" font-size=\"14.00\" text-anchor=\"middle\" x=\"128\" y=\"-160.8\">activation_6: Activation</text>\n",
       "</g>\n",
       "<!-- 2267434940400&#45;&gt;2267435099416 -->\n",
       "<g class=\"edge\" id=\"edge11\"><title>2267434940400-&gt;2267435099416</title>\n",
       "<path d=\"M128,-219.313C128,-211.289 128,-201.547 128,-192.569\" fill=\"none\" stroke=\"black\"/>\n",
       "<polygon fill=\"black\" points=\"131.5,-192.529 128,-182.529 124.5,-192.529 131.5,-192.529\" stroke=\"black\"/>\n",
       "</g>\n",
       "<!-- 2267431423056 -->\n",
       "<g class=\"node\" id=\"node13\"><title>2267431423056</title>\n",
       "<polygon fill=\"none\" points=\"76,-73.5 76,-109.5 180,-109.5 180,-73.5 76,-73.5\" stroke=\"black\"/>\n",
       "<text font-family=\"Times New Roman,serif\" font-size=\"14.00\" text-anchor=\"middle\" x=\"128\" y=\"-87.8\">dense_8: Dense</text>\n",
       "</g>\n",
       "<!-- 2267435099416&#45;&gt;2267431423056 -->\n",
       "<g class=\"edge\" id=\"edge12\"><title>2267435099416-&gt;2267431423056</title>\n",
       "<path d=\"M128,-146.313C128,-138.289 128,-128.547 128,-119.569\" fill=\"none\" stroke=\"black\"/>\n",
       "<polygon fill=\"black\" points=\"131.5,-119.529 128,-109.529 124.5,-119.529 131.5,-119.529\" stroke=\"black\"/>\n",
       "</g>\n",
       "<!-- 2267435248664 -->\n",
       "<g class=\"node\" id=\"node14\"><title>2267435248664</title>\n",
       "<polygon fill=\"none\" points=\"54,-0.5 54,-36.5 202,-36.5 202,-0.5 54,-0.5\" stroke=\"black\"/>\n",
       "<text font-family=\"Times New Roman,serif\" font-size=\"14.00\" text-anchor=\"middle\" x=\"128\" y=\"-14.8\">activation_7: Activation</text>\n",
       "</g>\n",
       "<!-- 2267431423056&#45;&gt;2267435248664 -->\n",
       "<g class=\"edge\" id=\"edge13\"><title>2267431423056-&gt;2267435248664</title>\n",
       "<path d=\"M128,-73.3129C128,-65.2895 128,-55.5475 128,-46.5691\" fill=\"none\" stroke=\"black\"/>\n",
       "<polygon fill=\"black\" points=\"131.5,-46.5288 128,-36.5288 124.5,-46.5289 131.5,-46.5288\" stroke=\"black\"/>\n",
       "</g>\n",
       "</g>\n",
       "</svg>"
      ],
      "text/plain": [
       "<IPython.core.display.SVG object>"
      ]
     },
     "execution_count": 19,
     "metadata": {},
     "output_type": "execute_result"
    }
   ],
   "source": [
    "# Visualize\n",
    "engine_length.model_summary(1, './figs/length_model.png')"
   ]
  },
  {
   "cell_type": "code",
   "execution_count": 46,
   "metadata": {},
   "outputs": [],
   "source": [
    "engine_length.load_model('./models/length_model_run_noTB')"
   ]
  },
  {
   "cell_type": "code",
   "execution_count": 16,
   "metadata": {},
   "outputs": [
    {
     "name": "stdout",
     "output_type": "stream",
     "text": [
      "Epoch 1/30\n",
      "120/120 [==============================] - 15s 128ms/step - loss: 1.6570 - categorical_accuracy: 0.4073 - val_loss: 1.4658 - val_categorical_accuracy: 0.4796\n",
      "Epoch 2/30\n",
      "120/120 [==============================] - 12s 98ms/step - loss: 1.4195 - categorical_accuracy: 0.4715 - val_loss: 1.3600 - val_categorical_accuracy: 0.4796\n",
      "Epoch 3/30\n",
      "120/120 [==============================] - 14s 114ms/step - loss: 1.3418 - categorical_accuracy: 0.4724 - val_loss: 1.3086 - val_categorical_accuracy: 0.4804\n",
      "Epoch 4/30\n",
      "120/120 [==============================] - 14s 116ms/step - loss: 1.3049 - categorical_accuracy: 0.4739 - val_loss: 1.2883 - val_categorical_accuracy: 0.4904\n",
      "Epoch 5/30\n",
      "120/120 [==============================] - 13s 111ms/step - loss: 1.2922 - categorical_accuracy: 0.4810 - val_loss: 1.2743 - val_categorical_accuracy: 0.4937\n",
      "Epoch 6/30\n",
      "120/120 [==============================] - 15s 122ms/step - loss: 1.2691 - categorical_accuracy: 0.4831 - val_loss: 1.2721 - val_categorical_accuracy: 0.4887\n",
      "Epoch 7/30\n",
      "120/120 [==============================] - 14s 114ms/step - loss: 1.2600 - categorical_accuracy: 0.4814 - val_loss: 1.2702 - val_categorical_accuracy: 0.4804\n",
      "Epoch 8/30\n",
      "120/120 [==============================] - 13s 112ms/step - loss: 1.2513 - categorical_accuracy: 0.4849 - val_loss: 1.2576 - val_categorical_accuracy: 0.4996\n",
      "Epoch 9/30\n",
      "120/120 [==============================] - 13s 104ms/step - loss: 1.2434 - categorical_accuracy: 0.4845 - val_loss: 1.2772 - val_categorical_accuracy: 0.4879\n",
      "Epoch 10/30\n",
      "120/120 [==============================] - 12s 104ms/step - loss: 1.2435 - categorical_accuracy: 0.5019 - val_loss: 1.2548 - val_categorical_accuracy: 0.4904\n",
      "Epoch 11/30\n",
      "120/120 [==============================] - 13s 106ms/step - loss: 1.2301 - categorical_accuracy: 0.4998 - val_loss: 1.2497 - val_categorical_accuracy: 0.5013\n",
      "Epoch 12/30\n",
      "120/120 [==============================] - 12s 103ms/step - loss: 1.2213 - categorical_accuracy: 0.5011 - val_loss: 1.2658 - val_categorical_accuracy: 0.4879\n",
      "Epoch 13/30\n",
      "120/120 [==============================] - 13s 107ms/step - loss: 1.2229 - categorical_accuracy: 0.5006 - val_loss: 1.2507 - val_categorical_accuracy: 0.5004\n",
      "Epoch 14/30\n",
      "120/120 [==============================] - 13s 105ms/step - loss: 1.2079 - categorical_accuracy: 0.4998 - val_loss: 1.2461 - val_categorical_accuracy: 0.4862\n",
      "Epoch 15/30\n",
      "120/120 [==============================] - 14s 116ms/step - loss: 1.2003 - categorical_accuracy: 0.5093 - val_loss: 1.2472 - val_categorical_accuracy: 0.5013\n",
      "Epoch 16/30\n",
      "120/120 [==============================] - 14s 116ms/step - loss: 1.1967 - categorical_accuracy: 0.5164 - val_loss: 1.2358 - val_categorical_accuracy: 0.5054\n",
      "Epoch 17/30\n",
      "120/120 [==============================] - 14s 116ms/step - loss: 1.1933 - categorical_accuracy: 0.5086 - val_loss: 1.2450 - val_categorical_accuracy: 0.5063\n",
      "Epoch 18/30\n",
      "120/120 [==============================] - 14s 118ms/step - loss: 1.1824 - categorical_accuracy: 0.5181 - val_loss: 1.2554 - val_categorical_accuracy: 0.4946\n",
      "Epoch 19/30\n",
      "120/120 [==============================] - 14s 119ms/step - loss: 1.1852 - categorical_accuracy: 0.5123 - val_loss: 1.2585 - val_categorical_accuracy: 0.5071\n"
     ]
    }
   ],
   "source": [
    "# Train\n",
    "run_id = 'noTB'\n",
    "engine_length.fit(30, early_stopping=True, verbose=1)"
   ]
  },
  {
   "cell_type": "code",
   "execution_count": 17,
   "metadata": {},
   "outputs": [
    {
     "data": {
      "image/png": "[encoded data removed]",
      "text/plain": [
       "<Figure size 432x288 with 1 Axes>"
      ]
     },
     "metadata": {
      "needs_background": "light"
     },
     "output_type": "display_data"
    }
   ],
   "source": [
    "# Check out losses again\n",
    "engine_length.plot_history(True, './figs/length_losses_run_{:s}.png'.format(str(run_id)), display=True)"
   ]
  },
  {
   "cell_type": "code",
   "execution_count": 18,
   "metadata": {},
   "outputs": [
    {
     "name": "stdout",
     "output_type": "stream",
     "text": [
      "Length: 1 ** Probability: 0.020\n",
      "Length: 2 ** Probability: 0.056\n",
      "Length: 3 ** Probability: 0.025\n",
      "Length: 4 ** Probability: 0.080\n",
      "Length: 5 ** Probability: 0.177\n",
      "Length: 6 ** Probability: 0.144\n",
      "Length: 7 ** Probability: 0.046\n",
      "Length: 8 ** Probability: 0.452\n",
      "\n",
      "Most likely contract length:  8\n"
     ]
    }
   ],
   "source": [
    "# Predict for specific player\n",
    "player_name = 'Mitchell Marner'\n",
    "test = engine_length.predict(player_name, (4,7,2019), 0, verbose=True)"
   ]
  },
  {
   "cell_type": "code",
   "execution_count": 25,
   "metadata": {},
   "outputs": [],
   "source": [
    "# Save\n",
    "engine_length.save_model('models/length_model_run_{:s}'.format(str(run_id)))"
   ]
  },
  {
   "cell_type": "code",
   "execution_count": 59,
   "metadata": {},
   "outputs": [
    {
     "name": "stdout",
     "output_type": "stream",
     "text": [
      "Model Prediction for Artemi Panarin: \n",
      "Model: 0 ** Length: 8\n",
      "Model: 1 ** Length: 8\n",
      "Model: 2 ** Length: 8\n",
      "Model: 3 ** Length: 8\n",
      "Model: 4 ** Length: 8\n",
      "Model: 5 ** Length: 8\n",
      "Model: 6 ** Length: 8\n",
      "Model: 7 ** Length: 5\n",
      "Model: 8 ** Length: 8\n",
      "Model: 9 ** Length: 8\n",
      "Model: 10 ** Length: 8\n",
      "Model: 11 ** Length: 8\n",
      "Model: 12 ** Length: 8\n",
      "Model: 13 ** Length: 8\n",
      "Model: 14 ** Length: 8\n",
      "Model: 15 ** Length: 8\n",
      "Model: 16 ** Length: 5\n",
      "Model: 17 ** Length: 8\n",
      "Model: 18 ** Length: 8\n",
      "Model: 19 ** Length: 8\n",
      "Length Average: 7.700\n",
      "Length Median: 8\n",
      "Length St Dev: 0.900\n"
     ]
    }
   ],
   "source": [
    "# Now do a bunch of runs with tensorboard on, save all the models and get an average estimate for one player\n",
    "# For some reason TB doesn't work with this model. --> Fixed, it was just one of the callbacks\n",
    "num_models = 20\n",
    "num_epochs = 50\n",
    "artemi_avg = np.empty(num_models)\n",
    "print('Model Prediction for Artemi Panarin: ')\n",
    "run_id = 0\n",
    "for ii in range(num_models):\n",
    "    K.clear_session()\n",
    "    model_len = make_model(prediction_type = 'length', \n",
    "                       lstm_layers = [64, 64, 32], \n",
    "                       dense_layers= [20, 20, 20],\n",
    "                       activation = 'relu')\n",
    "    \n",
    "    optim = Adam()\n",
    "    \n",
    "    engine = Engine(model_len, data_gen_length, optim, prediction_type = 'length')\n",
    "    \n",
    "    tensorboard=True\n",
    "    base_dir = 'length_logs'\n",
    "    if tensorboard:\n",
    "        log_dir = os.path.join('./logs', base_dir)\n",
    "        run_id = len([name for name in os.listdir(log_dir)])\n",
    "    engine.fit(num_epochs, tensorboard=tensorboard, early_stopping=True, verbose=0)\n",
    "    engine.plot_history(True, './figs/length_losses_run_{:s}.png'.format(str(run_id)), False)\n",
    "    engine.save_model('models/length_model_run_{:s}'.format(str(run_id)))\n",
    "    \n",
    "    predictions = engine.predict('Artemi Panarin', (4,7,2019), 1, verbose=False)\n",
    "    artemi_avg[ii] = np.argmax(predictions)+1\n",
    "    \n",
    "    print('Model: {:d} ** Length: {:d}'.format(run_id, np.argmax(predictions)+1))\n",
    "    run_id+=1\n",
    "    \n",
    "print('Length Average: {:0.3f}'.format(np.mean(artemi_avg)))\n",
    "print('Length Median: {:0.0f}'.format(np.median(artemi_avg)))\n",
    "print('Length St Dev: {:0.3f}'.format(np.std(artemi_avg)))"
   ]
  },
  {
   "cell_type": "code",
   "execution_count": 79,
   "metadata": {},
   "outputs": [],
   "source": [
    "engine_cap.load_model('./models/cap_hit_model_run_noTB')\n",
    "engine_length.load_model('./models/length_model_run_noTB')"
   ]
  },
  {
   "cell_type": "code",
   "execution_count": 80,
   "metadata": {},
   "outputs": [
    {
     "name": "stdout",
     "output_type": "stream",
     "text": [
      "Player not found.\n"
     ]
    },
    {
     "ename": "ValueError",
     "evalue": "If predicting from data tensors, you should specify the `steps` argument.",
     "output_type": "error",
     "traceback": [
      "\u001b[1;31m---------------------------------------------------------------------------\u001b[0m",
      "\u001b[1;31mValueError\u001b[0m                                Traceback (most recent call last)",
      "\u001b[1;32m<ipython-input-80-c095d95080d5>\u001b[0m in \u001b[0;36m<module>\u001b[1;34m\u001b[0m\n\u001b[0;32m      5\u001b[0m              \u001b[0mengine_length\u001b[0m\u001b[1;33m=\u001b[0m\u001b[0mengine_length\u001b[0m\u001b[1;33m,\u001b[0m\u001b[1;33m\u001b[0m\u001b[1;33m\u001b[0m\u001b[0m\n\u001b[0;32m      6\u001b[0m              \u001b[0mengine_cap\u001b[0m\u001b[1;33m=\u001b[0m\u001b[0mengine_cap\u001b[0m\u001b[1;33m,\u001b[0m\u001b[1;33m\u001b[0m\u001b[1;33m\u001b[0m\u001b[0m\n\u001b[1;32m----> 7\u001b[1;33m              save_file=False)\n\u001b[0m",
      "\u001b[1;32m<ipython-input-43-bebf8b287db4>\u001b[0m in \u001b[0;36mplot_results\u001b[1;34m(player_name, signing_date, signing_status, engine_length, engine_cap, load_models, save_file)\u001b[0m\n\u001b[0;32m     22\u001b[0m     \u001b[0m_\u001b[0m\u001b[1;33m,\u001b[0m \u001b[0max\u001b[0m \u001b[1;33m=\u001b[0m \u001b[0mplt\u001b[0m\u001b[1;33m.\u001b[0m\u001b[0msubplots\u001b[0m\u001b[1;33m(\u001b[0m\u001b[1;33m)\u001b[0m\u001b[1;33m\u001b[0m\u001b[1;33m\u001b[0m\u001b[0m\n\u001b[0;32m     23\u001b[0m     \u001b[1;32mif\u001b[0m \u001b[0mload_models\u001b[0m \u001b[1;32mis\u001b[0m \u001b[1;32mNone\u001b[0m\u001b[1;33m:\u001b[0m\u001b[1;33m\u001b[0m\u001b[1;33m\u001b[0m\u001b[0m\n\u001b[1;32m---> 24\u001b[1;33m         \u001b[0mlengths\u001b[0m \u001b[1;33m=\u001b[0m \u001b[0mengine_length\u001b[0m\u001b[1;33m.\u001b[0m\u001b[0mpredict\u001b[0m\u001b[1;33m(\u001b[0m\u001b[0mplayer_name\u001b[0m\u001b[1;33m,\u001b[0m \u001b[0msigning_date\u001b[0m\u001b[1;33m,\u001b[0m \u001b[0msigning_status\u001b[0m\u001b[1;33m,\u001b[0m \u001b[0mverbose\u001b[0m\u001b[1;33m=\u001b[0m\u001b[1;32mFalse\u001b[0m\u001b[1;33m)\u001b[0m\u001b[1;33m\u001b[0m\u001b[1;33m\u001b[0m\u001b[0m\n\u001b[0m\u001b[0;32m     25\u001b[0m         \u001b[0mmax_height\u001b[0m \u001b[1;33m=\u001b[0m \u001b[0mnp\u001b[0m\u001b[1;33m.\u001b[0m\u001b[0mmax\u001b[0m\u001b[1;33m(\u001b[0m\u001b[0mlengths\u001b[0m\u001b[1;33m)\u001b[0m \u001b[1;33m+\u001b[0m \u001b[1;36m0.07\u001b[0m\u001b[1;33m\u001b[0m\u001b[1;33m\u001b[0m\u001b[0m\n\u001b[0;32m     26\u001b[0m         \u001b[0mplt\u001b[0m\u001b[1;33m.\u001b[0m\u001b[0mbar\u001b[0m\u001b[1;33m(\u001b[0m\u001b[0mrange\u001b[0m\u001b[1;33m(\u001b[0m\u001b[1;36m0\u001b[0m\u001b[1;33m,\u001b[0m \u001b[0mlen\u001b[0m\u001b[1;33m(\u001b[0m\u001b[0mlengths\u001b[0m\u001b[1;33m)\u001b[0m\u001b[1;33m)\u001b[0m\u001b[1;33m,\u001b[0m \u001b[0mlengths\u001b[0m\u001b[1;33m,\u001b[0m \u001b[0mcolor\u001b[0m\u001b[1;33m=\u001b[0m\u001b[1;34m'lightsteelblue'\u001b[0m\u001b[1;33m)\u001b[0m\u001b[1;33m\u001b[0m\u001b[1;33m\u001b[0m\u001b[0m\n",
      "\u001b[1;32m~\\DataScience\\MiniProjects\\NHL\\utils\\training.py\u001b[0m in \u001b[0;36mpredict\u001b[1;34m(self, player_name, signing_date, signing_status, length, verbose)\u001b[0m\n\u001b[0;32m    639\u001b[0m \u001b[1;33m\u001b[0m\u001b[0m\n\u001b[0;32m    640\u001b[0m         \u001b[1;32melse\u001b[0m\u001b[1;33m:\u001b[0m\u001b[1;33m\u001b[0m\u001b[1;33m\u001b[0m\u001b[0m\n\u001b[1;32m--> 641\u001b[1;33m             \u001b[0mlengths\u001b[0m \u001b[1;33m=\u001b[0m \u001b[0mself\u001b[0m\u001b[1;33m.\u001b[0m\u001b[0mmodel\u001b[0m\u001b[1;33m.\u001b[0m\u001b[0mpredict\u001b[0m\u001b[1;33m(\u001b[0m\u001b[0mx\u001b[0m\u001b[1;33m)\u001b[0m\u001b[1;33m[\u001b[0m\u001b[1;36m0\u001b[0m\u001b[1;33m]\u001b[0m\u001b[1;33m\u001b[0m\u001b[1;33m\u001b[0m\u001b[0m\n\u001b[0m\u001b[0;32m    642\u001b[0m \u001b[1;33m\u001b[0m\u001b[0m\n\u001b[0;32m    643\u001b[0m             \u001b[1;32mif\u001b[0m \u001b[0mverbose\u001b[0m\u001b[1;33m:\u001b[0m\u001b[1;33m\u001b[0m\u001b[1;33m\u001b[0m\u001b[0m\n",
      "\u001b[1;32m~\\Anaconda3\\envs\\datascience\\lib\\site-packages\\keras\\engine\\training.py\u001b[0m in \u001b[0;36mpredict\u001b[1;34m(self, x, batch_size, verbose, steps)\u001b[0m\n\u001b[0;32m   1143\u001b[0m             \u001b[0mbatch_size\u001b[0m \u001b[1;33m=\u001b[0m \u001b[1;36m32\u001b[0m\u001b[1;33m\u001b[0m\u001b[1;33m\u001b[0m\u001b[0m\n\u001b[0;32m   1144\u001b[0m         \u001b[1;32mif\u001b[0m \u001b[0mx\u001b[0m \u001b[1;32mis\u001b[0m \u001b[1;32mNone\u001b[0m \u001b[1;32mand\u001b[0m \u001b[0msteps\u001b[0m \u001b[1;32mis\u001b[0m \u001b[1;32mNone\u001b[0m\u001b[1;33m:\u001b[0m\u001b[1;33m\u001b[0m\u001b[1;33m\u001b[0m\u001b[0m\n\u001b[1;32m-> 1145\u001b[1;33m             raise ValueError('If predicting from data tensors, '\n\u001b[0m\u001b[0;32m   1146\u001b[0m                              \u001b[1;34m'you should specify the `steps` '\u001b[0m\u001b[1;33m\u001b[0m\u001b[1;33m\u001b[0m\u001b[0m\n\u001b[0;32m   1147\u001b[0m                              'argument.')\n",
      "\u001b[1;31mValueError\u001b[0m: If predicting from data tensors, you should specify the `steps` argument."
     ]
    },
    {
     "data": {
      "image/png": "[encoded data removed]",
      "text/plain": [
       "<Figure size 432x288 with 1 Axes>"
      ]
     },
     "metadata": {
      "needs_background": "light"
     },
     "output_type": "display_data"
    }
   ],
   "source": [
    "# Visualize Prediction Results For a Single Player\n",
    "plot_results(player_name='Patrick Laine',\n",
    "             signing_date=(5, 7, 2019),\n",
    "             signing_status=1,\n",
    "             engine_length=engine_length,\n",
    "             engine_cap=engine_cap,\n",
    "             save_file=False)"
   ]
  },
  {
   "cell_type": "code",
   "execution_count": 37,
   "metadata": {},
   "outputs": [
    {
     "data": {
      "text/plain": [
       "['run_0',\n",
       " 'run_1',\n",
       " 'run_2',\n",
       " 'run_3',\n",
       " 'run_4',\n",
       " 'run_5',\n",
       " 'run_6',\n",
       " 'run_7',\n",
       " 'run_8',\n",
       " 'run_9',\n",
       " 'run_10',\n",
       " 'run_11',\n",
       " 'run_12',\n",
       " 'run_13',\n",
       " 'run_14',\n",
       " 'run_15',\n",
       " 'run_16',\n",
       " 'run_17',\n",
       " 'run_18',\n",
       " 'run_19']"
      ]
     },
     "execution_count": 37,
     "metadata": {},
     "output_type": "execute_result"
    }
   ],
   "source": [
    "# Or use mutliple saved models to get a more statistical result\n",
    "load_models = ['run_'+str(x) for x in range(20)]\n",
    "load_models"
   ]
  },
  {
   "cell_type": "code",
   "execution_count": 86,
   "metadata": {},
   "outputs": [
    {
     "data": {
      "image/png": "[encoded data removed]",
      "text/plain": [
       "<Figure size 432x288 with 1 Axes>"
      ]
     },
     "metadata": {
      "needs_background": "light"
     },
     "output_type": "display_data"
    }
   ],
   "source": [
    "plot_results('Artemi Panarin', (5, 7, 2019), 1, engine_length, engine_cap, load_models = load_models)"
   ]
  },
  {
   "cell_type": "code",
   "execution_count": null,
   "metadata": {},
   "outputs": [],
   "source": []
  }
 ],
 "metadata": {
  "kernelspec": {
   "display_name": "Python 3",
   "language": "python",
   "name": "python3"
  },
  "language_info": {
   "codemirror_mode": {
    "name": "ipython",
    "version": 3
   },
   "file_extension": ".py",
   "mimetype": "text/x-python",
   "name": "python",
   "nbconvert_exporter": "python",
   "pygments_lexer": "ipython3",
   "version": "3.6.8"
  },
  "toc": {
   "base_numbering": 1,
   "nav_menu": {},
   "number_sections": true,
   "sideBar": true,
   "skip_h1_title": false,
   "title_cell": "Table of Contents",
   "title_sidebar": "Contents",
   "toc_cell": false,
   "toc_position": {},
   "toc_section_display": true,
   "toc_window_display": false
  }
 },
 "nbformat": 4,
 "nbformat_minor": 2
}
