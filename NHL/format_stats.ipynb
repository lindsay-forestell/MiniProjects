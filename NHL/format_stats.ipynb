{
 "cells": [
  {
   "cell_type": "markdown",
   "metadata": {},
   "source": [
    "# Original Data\n",
    "\n",
    "First we pull in the original data that we will transform to data we want to use. This is freely available from https://evolving-hockey.com/.\n",
    "\n",
    "This is the game stats data: annual stats like goals, assists, games played, etc. \n",
    "\n",
    "Take a quick look at it before doing some matching with the contract player data. \n",
    "\n",
    "Also note that there are actually a few different tables that we are going to have to deal with here:\n",
    "\n",
    "* Standard (even-strength, power play, ...)\n",
    "\n",
    "* On-Ice\n",
    "\n",
    "* Relative_TM\n",
    "\n",
    "* GAR"
   ]
  },
  {
   "cell_type": "markdown",
   "metadata": {},
   "source": [
    "# Match Game Stats Data to Player Name Data\n",
    "\n",
    "We want to match up as many players as possible between our two data sets.\n",
    "\n",
    "Because they come from different sites, there are some naming discrepancies. Eg. Chris vs. Christopher. \n",
    "\n",
    "So without going through by hand, we are bound to lose a few in the matching process.\n",
    "\n",
    "So we started with the last ~10 years of players so that we end up with a reasonably large sample still after we have matched as many players as possible. \n",
    "\n",
    "We'll also tack on the unique player ID to the game stats players at this point so we don't have to keep trying to match by name moving forward. "
   ]
  },
  {
   "cell_type": "code",
   "execution_count": 1,
   "metadata": {},
   "outputs": [],
   "source": [
    "from utils.game_tables import FormatGames\n",
    "import pandas as pd\n",
    "\n",
    "# scale data \n",
    "from sklearn.preprocessing import StandardScaler, MinMaxScaler"
   ]
  },
  {
   "cell_type": "code",
   "execution_count": 2,
   "metadata": {},
   "outputs": [],
   "source": [
    "tables = []\n",
    "folder = './data/'\n",
    "root = 'EH_Tables/Evolving_Hockey_'\n",
    "date = '2019-06-27'\n",
    "info_1_list = ['GAA','On-Ice','Relative_TM','Standard','Standard']\n",
    "info_2_list = ['GAR','EV','EV','EV','PP']    \n",
    "years = list(range(2007,2019))"
   ]
  },
  {
   "cell_type": "code",
   "execution_count": 3,
   "metadata": {},
   "outputs": [
    {
     "name": "stdout",
     "output_type": "stream",
     "text": [
      "----------------------\n",
      "For GAA - GAR Table:\n",
      "\n",
      "Number of unique players in PLAYER DF: 2516\n",
      "Original number of unique players in GAMES DF:  2042\n",
      "Number of unique players in GAMES DF that match PLAYER DF: 1601\n",
      "Total number of unmatched last names:  710\n",
      "Total number of unmatched first names: 203\n",
      "\n",
      "----------------------\n",
      "For On-Ice - EV Table:\n",
      "\n",
      "Number of unique players in PLAYER DF: 2516\n",
      "Original number of unique players in GAMES DF:  2058\n",
      "Number of unique players in GAMES DF that match PLAYER DF: 1614\n",
      "Total number of unmatched last names:  699\n",
      "Total number of unmatched first names: 201\n",
      "\n",
      "----------------------\n",
      "For Relative_TM - EV Table:\n",
      "\n",
      "Number of unique players in PLAYER DF: 2516\n",
      "Original number of unique players in GAMES DF:  2058\n",
      "Number of unique players in GAMES DF that match PLAYER DF: 1614\n",
      "Total number of unmatched last names:  699\n",
      "Total number of unmatched first names: 201\n",
      "\n",
      "----------------------\n",
      "For Standard - EV Table:\n",
      "\n",
      "Number of unique players in PLAYER DF: 2516\n",
      "Original number of unique players in GAMES DF:  2058\n",
      "Number of unique players in GAMES DF that match PLAYER DF: 1614\n",
      "Total number of unmatched last names:  699\n",
      "Total number of unmatched first names: 201\n",
      "\n",
      "----------------------\n",
      "For Standard - PP Table:\n",
      "\n",
      "Number of unique players in PLAYER DF: 2516\n",
      "Original number of unique players in GAMES DF:  1004\n",
      "Number of unique players in GAMES DF that match PLAYER DF: 856\n",
      "Total number of unmatched last names:  1421\n",
      "Total number of unmatched first names: 239\n",
      "\n"
     ]
    }
   ],
   "source": [
    "fg = FormatGames('./data/player_stats.csv')\n",
    "for ii in range(len(info_1_list)):\n",
    "    \n",
    "    # Get the right name for the file\n",
    "    info_1 = info_1_list[ii]\n",
    "    info_2 = info_2_list[ii]\n",
    "    \n",
    "    filename = folder+root\n",
    "    \n",
    "    if info_1 != 'GAA':\n",
    "        filename += 'skater_stats_'\n",
    "        \n",
    "    filename+=info_1+'_'+info_2+'_'\n",
    "    \n",
    "    if info_1 == 'GAA':\n",
    "        filename+='Skaters_'\n",
    "        \n",
    "    elif info_1=='Standard':\n",
    "        filename+='no_adj_'\n",
    "        \n",
    "    else:\n",
    "        filename+='adj_'\n",
    "        \n",
    "    filename+=date+'.csv'\n",
    "    \n",
    "    # Make a save file name\n",
    "    savename = folder+'game_stats_'+info_1+'_'+info_2+'.csv'\n",
    "    \n",
    "    # Import data into df and modify to include the player_id\n",
    "    print('----------------------')\n",
    "    print('For {:s} - {:s} Table:'.format(info_1,info_2))\n",
    "    fg.load_games_csv(filename, years)\n",
    "    fg.format_games()\n",
    "    fg.save_games_csv(savename)\n",
    "    "
   ]
  },
  {
   "cell_type": "markdown",
   "metadata": {},
   "source": [
    "---\n",
    "\n",
    "Okay so we lost 900 out of the ~2000 we started with. Could be better, could be worse. \n",
    "\n",
    "But it looks like a lot of these names are younger players (ie no contracts), or played few games or just irrelevant.\n",
    "\n",
    "We certainly missed a few mis-spells, but we still have over 1000 players, and many players have multiple contracts so for the purposes of this study it will suffice. "
   ]
  },
  {
   "cell_type": "markdown",
   "metadata": {},
   "source": [
    "# Create Game Stats Table With Relevant Stats\n",
    "\n",
    "Now, instead of having 5 different tables with an assortment of repeated stats, we want one big table with everyones stats (and only the relevants ones). "
   ]
  },
  {
   "cell_type": "code",
   "execution_count": 16,
   "metadata": {},
   "outputs": [],
   "source": [
    "game_stats_standard_EV = pd.read_csv('./data/game_stats_Standard_EV.csv')\n",
    "game_stats_standard_PP = pd.read_csv('./data/game_stats_Standard_PP.csv')\n",
    "game_stats_GAA_GAR = pd.read_csv('./data/game_stats_GAA_GAR.csv')\n",
    "game_stats_onice_EV= pd.read_csv('./data/game_stats_On-Ice_EV.csv')\n",
    "game_stats_Relative_TM_EV = pd.read_csv('./data/game_stats_Relative_TM_EV.csv')"
   ]
  },
  {
   "cell_type": "code",
   "execution_count": 17,
   "metadata": {},
   "outputs": [],
   "source": [
    "# Remove all rows that have player_id = -1\n",
    "game_stats_standard_EV = game_stats_standard_EV[game_stats_standard_EV.player_id!=-1].reset_index()\n",
    "game_stats_standard_PP = game_stats_standard_PP[game_stats_standard_PP.player_id!=-1].reset_index()\n",
    "game_stats_GAA_GAR = game_stats_GAA_GAR[game_stats_GAA_GAR.player_id!=-1].reset_index()\n",
    "game_stats_onice_EV = game_stats_onice_EV[game_stats_onice_EV.player_id!=-1].reset_index()\n",
    "game_stats_Relative_TM_EV = game_stats_Relative_TM_EV[game_stats_Relative_TM_EV.player_id!=-1].reset_index()"
   ]
  },
  {
   "cell_type": "code",
   "execution_count": 18,
   "metadata": {},
   "outputs": [],
   "source": [
    "# First need an id column - need player ID AND year played \n",
    "game_stats_standard_EV['player_season']=game_stats_standard_EV.apply(lambda row: str(row.player_id) + '_'+str(row.season),axis=1)\n",
    "game_stats_standard_PP['player_season']=game_stats_standard_PP.apply(lambda row: str(row.player_id) + '_'+str(row.season),axis=1)\n",
    "game_stats_GAA_GAR['player_season']=game_stats_GAA_GAR.apply(lambda row: str(row.player_id) + '_'+str(row.season),axis=1)\n",
    "game_stats_onice_EV['player_season']=game_stats_onice_EV.apply(lambda row: str(row.player_id) + '_'+str(row.season),axis=1)\n",
    "game_stats_Relative_TM_EV['player_season']=game_stats_Relative_TM_EV.apply(lambda row: str(row.player_id) + '_'+str(row.season),axis=1)"
   ]
  },
  {
   "cell_type": "code",
   "execution_count": 19,
   "metadata": {},
   "outputs": [],
   "source": [
    "# Might want to double check that the DF has unique ids at this point (already found a few that needed fixing)\n",
    "def check_unique(df):\n",
    "    unique_list = []\n",
    "    for ii in range(len(df)):\n",
    "        ps =df.loc[ii,'player_season']\n",
    "        if ps not in unique_list:\n",
    "            unique_list.append(ps)\n",
    "        else:\n",
    "            print(df.loc[ii,'player'],ps)"
   ]
  },
  {
   "cell_type": "code",
   "execution_count": 20,
   "metadata": {},
   "outputs": [],
   "source": [
    "check_unique(game_stats_standard_PP)"
   ]
  },
  {
   "cell_type": "code",
   "execution_count": 21,
   "metadata": {},
   "outputs": [],
   "source": [
    "# For standard strength stuff, we want their per 60 stats for some of them \n",
    "# Note that 'iBLK' isn't in the PP stats\n",
    "per_60_list = ['G',\n",
    "              'A1',\n",
    "              'A2',\n",
    "              'Points',\n",
    "              'iSF',\n",
    "              'iCF',\n",
    "              'iBLK',\n",
    "              'iHF',\n",
    "              'iHA',\n",
    "              'GIVE',\n",
    "              'TAKE',\n",
    "              'iPENT2',\n",
    "              'iPEND2',\n",
    "              'iPENT5',\n",
    "              'iPEND5']\n",
    "\n",
    "for stat in per_60_list:\n",
    "    game_stats_standard_EV[stat+'_p60']=60*game_stats_standard_EV[stat]/game_stats_standard_EV['TOI']\n",
    "    if stat!='iBLK':\n",
    "        game_stats_standard_PP[stat+'_p60']=60*game_stats_standard_PP[stat]/game_stats_standard_PP['TOI']"
   ]
  },
  {
   "cell_type": "code",
   "execution_count": 22,
   "metadata": {},
   "outputs": [],
   "source": [
    "# For the GAR table, also get avg TOI\n",
    "game_stats_GAA_GAR['TOI_avg']=game_stats_GAA_GAR['TOI_all']/game_stats_GAA_GAR['GP']"
   ]
  },
  {
   "cell_type": "code",
   "execution_count": 23,
   "metadata": {},
   "outputs": [],
   "source": [
    "# Also get FO win % \n",
    "game_stats_standard_EV['FOW_perc'] = 100*game_stats_standard_EV['FOW']/(game_stats_standard_EV['FOW']+game_stats_standard_EV['FOL'])\n",
    "game_stats_standard_PP['FOW_perc'] = 100*game_stats_standard_PP['FOW']/(game_stats_standard_PP['FOW']+game_stats_standard_PP['FOL'])"
   ]
  },
  {
   "cell_type": "code",
   "execution_count": 24,
   "metadata": {},
   "outputs": [],
   "source": [
    "# Need to rename the standard stats to EV/PP\n",
    "columns = list(game_stats_standard_EV.columns)\n",
    "columns_EV = [column+'_EV' if (column!='player_season') and (column!='player_id') and (column!='position') else column for column in columns]\n",
    "game_stats_standard_EV.columns = columns_EV\n",
    "\n",
    "columns = list(game_stats_standard_PP.columns)\n",
    "columns_PP = [column+'_PP' if (column!='player_season') and (column!='player_id') else column for column in columns]\n",
    "game_stats_standard_PP.columns = columns_PP"
   ]
  },
  {
   "cell_type": "code",
   "execution_count": 25,
   "metadata": {},
   "outputs": [],
   "source": [
    "# Needed in every table\n",
    "extra = ['player_season']\n",
    "\n",
    "# The extra stats we care about from the 2 'standard' lists\n",
    "standard_list = ['Sh_perc',\n",
    "                 'FOW',\n",
    "                 'FOL',\n",
    "                 'FOW_perc',\n",
    "                 'FO_diff']\n",
    "\n",
    "# On ice stats\n",
    "on_ice_list = ['onGF',\n",
    "              'onGA',\n",
    "              'onG_diff',\n",
    "              'onxGF',\n",
    "              'onxGA',\n",
    "              'onxG_diff',\n",
    "              'onSF',\n",
    "              'onSA',\n",
    "              'onS_diff',\n",
    "              'onCF',\n",
    "              'onCA',\n",
    "              'onC_diff',\n",
    "              'onSh_perc']\n",
    "\n",
    "# Rel stats\n",
    "rel_tm_list = ['rel_TM_GF_impact',\n",
    "              'rel_TM_GA_impact',\n",
    "              'rel_TM_G_diff_impact',\n",
    "              'rel_TM_xGF_impact',\n",
    "              'rel_TM_xGA_impact',\n",
    "              'rel_TM_xG_diff_impact',\n",
    "              'rel_TM_SF_impact',\n",
    "              'rel_TM_SA_impact',\n",
    "              'rel_TM_S_diff_impact',\n",
    "              'rel_TM_CF_impact',\n",
    "              'rel_TM_CA_impact',\n",
    "              'rel_TM_C_diff_impact']\n",
    "\n",
    "# GAR stats\n",
    "gar_list = ['GP',\n",
    "           'TOI_all',\n",
    "           'TOI_avg',\n",
    "           'TOI_EV',\n",
    "           'TOI_PP',\n",
    "           'TOI_SH',\n",
    "           'EV_GAR',\n",
    "           'PP_GAR',\n",
    "           'SH_GAR',\n",
    "           'Pens_GAR',\n",
    "           'GAR',\n",
    "           'WAR']"
   ]
  },
  {
   "cell_type": "markdown",
   "metadata": {},
   "source": [
    "First let's match up the two standard tables.\n",
    "\n",
    "There are quite a few players who show up in EV but not PP - so we want them to get 0's for all their PP stats. "
   ]
  },
  {
   "cell_type": "code",
   "execution_count": 26,
   "metadata": {},
   "outputs": [],
   "source": [
    "game_stats_standard_EV_list = [x+'_EV' for x in per_60_list] +\\\n",
    "                        [x+'_p60_EV' for x in per_60_list] +\\\n",
    "                        [x+'_EV' for x in standard_list]\n",
    "game_stats_standard_PP_list = [x+'_PP' for x in per_60_list  if x!='iBLK'] +\\\n",
    "                        [x+'_p60_PP' for x in per_60_list if x!='iBLK'] +\\\n",
    "                        [x+'_PP' for x in standard_list]"
   ]
  },
  {
   "cell_type": "code",
   "execution_count": 27,
   "metadata": {},
   "outputs": [],
   "source": [
    "game_stats_standard_EV = game_stats_standard_EV[['player_id','player_EV','season_EV','position']+extra+game_stats_standard_EV_list]\n",
    "game_stats_standard_PP = game_stats_standard_PP[game_stats_standard_PP_list+extra]\n",
    "game_stats_onice_EV = game_stats_onice_EV[on_ice_list+extra]\n",
    "game_stats_GAA_GAR = game_stats_GAA_GAR[gar_list+extra]\n",
    "game_stats_Relative_TM_EV = game_stats_Relative_TM_EV[rel_tm_list+extra]"
   ]
  },
  {
   "cell_type": "code",
   "execution_count": 28,
   "metadata": {},
   "outputs": [],
   "source": [
    "# Join standard EV and standard PP\n",
    "all_standard = game_stats_standard_EV.merge(game_stats_standard_PP, how='left', on='player_season')\n",
    "\n",
    "# for players who didn't play enough PP time, make their stats 0\n",
    "all_standard.fillna(0, inplace=True)"
   ]
  },
  {
   "cell_type": "code",
   "execution_count": 29,
   "metadata": {},
   "outputs": [],
   "source": [
    "# Next, join up on ice and rel_tm\n",
    "standard_onice = all_standard.merge(game_stats_onice_EV, how='left', on='player_season')\n",
    "standard_on_ice_rel_tm = standard_onice.merge(game_stats_Relative_TM_EV, how='left', on='player_season')"
   ]
  },
  {
   "cell_type": "code",
   "execution_count": 30,
   "metadata": {},
   "outputs": [],
   "source": [
    "# Finally, do the GAR table.\n",
    "# This one is a slightly different size so just make sure it worked properly. Only take players that show in the other tables.\n",
    "standard_on_ice_rel_tm_gaa = standard_on_ice_rel_tm.merge(game_stats_GAA_GAR, how='left',on='player_season')"
   ]
  },
  {
   "cell_type": "code",
   "execution_count": 31,
   "metadata": {},
   "outputs": [
    {
     "data": {
      "text/html": [
       "<div>\n",
       "<style scoped>\n",
       "    .dataframe tbody tr th:only-of-type {\n",
       "        vertical-align: middle;\n",
       "    }\n",
       "\n",
       "    .dataframe tbody tr th {\n",
       "        vertical-align: top;\n",
       "    }\n",
       "\n",
       "    .dataframe thead th {\n",
       "        text-align: right;\n",
       "    }\n",
       "</style>\n",
       "<table border=\"1\" class=\"dataframe\">\n",
       "  <thead>\n",
       "    <tr style=\"text-align: right;\">\n",
       "      <th></th>\n",
       "      <th>player_id</th>\n",
       "      <th>player</th>\n",
       "      <th>season</th>\n",
       "      <th>position</th>\n",
       "      <th>player_season</th>\n",
       "      <th>G_EV</th>\n",
       "      <th>A1_EV</th>\n",
       "      <th>A2_EV</th>\n",
       "      <th>Points_EV</th>\n",
       "      <th>iSF_EV</th>\n",
       "      <th>...</th>\n",
       "      <th>TOI_avg</th>\n",
       "      <th>TOI_EV</th>\n",
       "      <th>TOI_PP</th>\n",
       "      <th>TOI_SH</th>\n",
       "      <th>EV_GAR</th>\n",
       "      <th>PP_GAR</th>\n",
       "      <th>SH_GAR</th>\n",
       "      <th>Pens_GAR</th>\n",
       "      <th>GAR</th>\n",
       "      <th>WAR</th>\n",
       "    </tr>\n",
       "  </thead>\n",
       "  <tbody>\n",
       "    <tr>\n",
       "      <th>0</th>\n",
       "      <td>1649</td>\n",
       "      <td>AARON.JOHNSON</td>\n",
       "      <td>20072008</td>\n",
       "      <td>D</td>\n",
       "      <td>1649_20072008</td>\n",
       "      <td>0</td>\n",
       "      <td>0</td>\n",
       "      <td>1</td>\n",
       "      <td>1</td>\n",
       "      <td>13</td>\n",
       "      <td>...</td>\n",
       "      <td>13.860000</td>\n",
       "      <td>341.1</td>\n",
       "      <td>55.2</td>\n",
       "      <td>16.5</td>\n",
       "      <td>2.6</td>\n",
       "      <td>0.3</td>\n",
       "      <td>-0.1</td>\n",
       "      <td>-1.4</td>\n",
       "      <td>1.4</td>\n",
       "      <td>0.3</td>\n",
       "    </tr>\n",
       "    <tr>\n",
       "      <th>1</th>\n",
       "      <td>1440</td>\n",
       "      <td>AARON.ROME</td>\n",
       "      <td>20072008</td>\n",
       "      <td>D</td>\n",
       "      <td>1440_20072008</td>\n",
       "      <td>1</td>\n",
       "      <td>0</td>\n",
       "      <td>1</td>\n",
       "      <td>2</td>\n",
       "      <td>13</td>\n",
       "      <td>...</td>\n",
       "      <td>18.176471</td>\n",
       "      <td>259.8</td>\n",
       "      <td>20.0</td>\n",
       "      <td>28.0</td>\n",
       "      <td>-1.4</td>\n",
       "      <td>-0.6</td>\n",
       "      <td>0.3</td>\n",
       "      <td>0.3</td>\n",
       "      <td>-1.3</td>\n",
       "      <td>-0.2</td>\n",
       "    </tr>\n",
       "    <tr>\n",
       "      <th>2</th>\n",
       "      <td>1478</td>\n",
       "      <td>ADAM.BURISH</td>\n",
       "      <td>20072008</td>\n",
       "      <td>F</td>\n",
       "      <td>1478_20072008</td>\n",
       "      <td>3</td>\n",
       "      <td>3</td>\n",
       "      <td>1</td>\n",
       "      <td>7</td>\n",
       "      <td>62</td>\n",
       "      <td>...</td>\n",
       "      <td>11.665000</td>\n",
       "      <td>676.0</td>\n",
       "      <td>18.2</td>\n",
       "      <td>223.6</td>\n",
       "      <td>-3.6</td>\n",
       "      <td>-0.2</td>\n",
       "      <td>-1.9</td>\n",
       "      <td>0.9</td>\n",
       "      <td>-4.8</td>\n",
       "      <td>-0.9</td>\n",
       "    </tr>\n",
       "    <tr>\n",
       "      <th>3</th>\n",
       "      <td>1410</td>\n",
       "      <td>ADAM.FOOTE</td>\n",
       "      <td>20072008</td>\n",
       "      <td>D</td>\n",
       "      <td>1410_20072008</td>\n",
       "      <td>0</td>\n",
       "      <td>2</td>\n",
       "      <td>6</td>\n",
       "      <td>8</td>\n",
       "      <td>54</td>\n",
       "      <td>...</td>\n",
       "      <td>23.252703</td>\n",
       "      <td>1325.2</td>\n",
       "      <td>35.6</td>\n",
       "      <td>318.2</td>\n",
       "      <td>-1.8</td>\n",
       "      <td>-0.6</td>\n",
       "      <td>1.9</td>\n",
       "      <td>0.2</td>\n",
       "      <td>-0.5</td>\n",
       "      <td>-0.1</td>\n",
       "    </tr>\n",
       "    <tr>\n",
       "      <th>4</th>\n",
       "      <td>1105</td>\n",
       "      <td>ADAM.HALL</td>\n",
       "      <td>20072008</td>\n",
       "      <td>F</td>\n",
       "      <td>1105_20072008</td>\n",
       "      <td>2</td>\n",
       "      <td>1</td>\n",
       "      <td>2</td>\n",
       "      <td>5</td>\n",
       "      <td>35</td>\n",
       "      <td>...</td>\n",
       "      <td>11.871739</td>\n",
       "      <td>372.9</td>\n",
       "      <td>9.7</td>\n",
       "      <td>141.7</td>\n",
       "      <td>-4.4</td>\n",
       "      <td>0.2</td>\n",
       "      <td>-0.6</td>\n",
       "      <td>0.0</td>\n",
       "      <td>-4.7</td>\n",
       "      <td>-0.9</td>\n",
       "    </tr>\n",
       "  </tbody>\n",
       "</table>\n",
       "<p>5 rows × 110 columns</p>\n",
       "</div>"
      ],
      "text/plain": [
       "   player_id         player    season position  player_season  G_EV  A1_EV  \\\n",
       "0       1649  AARON.JOHNSON  20072008        D  1649_20072008     0      0   \n",
       "1       1440     AARON.ROME  20072008        D  1440_20072008     1      0   \n",
       "2       1478    ADAM.BURISH  20072008        F  1478_20072008     3      3   \n",
       "3       1410     ADAM.FOOTE  20072008        D  1410_20072008     0      2   \n",
       "4       1105      ADAM.HALL  20072008        F  1105_20072008     2      1   \n",
       "\n",
       "   A2_EV  Points_EV  iSF_EV  ...    TOI_avg  TOI_EV  TOI_PP  TOI_SH  EV_GAR  \\\n",
       "0      1          1      13  ...  13.860000   341.1    55.2    16.5     2.6   \n",
       "1      1          2      13  ...  18.176471   259.8    20.0    28.0    -1.4   \n",
       "2      1          7      62  ...  11.665000   676.0    18.2   223.6    -3.6   \n",
       "3      6          8      54  ...  23.252703  1325.2    35.6   318.2    -1.8   \n",
       "4      2          5      35  ...  11.871739   372.9     9.7   141.7    -4.4   \n",
       "\n",
       "   PP_GAR  SH_GAR  Pens_GAR  GAR  WAR  \n",
       "0     0.3    -0.1      -1.4  1.4  0.3  \n",
       "1    -0.6     0.3       0.3 -1.3 -0.2  \n",
       "2    -0.2    -1.9       0.9 -4.8 -0.9  \n",
       "3    -0.6     1.9       0.2 -0.5 -0.1  \n",
       "4     0.2    -0.6       0.0 -4.7 -0.9  \n",
       "\n",
       "[5 rows x 110 columns]"
      ]
     },
     "execution_count": 31,
     "metadata": {},
     "output_type": "execute_result"
    }
   ],
   "source": [
    "# rename player and season to not include EV\n",
    "standard_on_ice_rel_tm_gaa.rename(columns={'player_EV':'player','season_EV':'season'}, inplace=True)\n",
    "standard_on_ice_rel_tm_gaa.head()"
   ]
  },
  {
   "cell_type": "code",
   "execution_count": 32,
   "metadata": {},
   "outputs": [],
   "source": [
    "standard_on_ice_rel_tm_gaa.fillna(0,inplace=True)"
   ]
  },
  {
   "cell_type": "code",
   "execution_count": 33,
   "metadata": {},
   "outputs": [],
   "source": [
    "# Save to file\n",
    "standard_on_ice_rel_tm_gaa.to_csv('./data/game_stats.csv',index=False)"
   ]
  },
  {
   "cell_type": "markdown",
   "metadata": {},
   "source": [
    "# Remove Players \n",
    "\n",
    "If they don't show up in all 3 of players, contracts, and game stats dfs. "
   ]
  },
  {
   "cell_type": "code",
   "execution_count": 34,
   "metadata": {},
   "outputs": [],
   "source": [
    "player_stats = pd.read_csv('./data/player_stats.csv')\n",
    "contract_stats = pd.read_csv('./data/contract_stats.csv')\n",
    "game_stats = pd.read_csv('./data/game_stats.csv')\n",
    "\n",
    "contract_stats = contract_stats[contract_stats.contract_type == 'STANDARD CONTRACT']"
   ]
  },
  {
   "cell_type": "code",
   "execution_count": 35,
   "metadata": {},
   "outputs": [],
   "source": [
    "player_ids = player_stats.player_id.values\n",
    "contract_ids = contract_stats.player_id.values\n",
    "game_ids = game_stats.player_id.values\n",
    "\n",
    "new_player_stats = pd.DataFrame(columns=player_stats.columns)\n",
    "new_contract_stats = pd.DataFrame(columns=contract_stats.columns)\n",
    "new_game_stats = pd.DataFrame(columns=game_stats.columns)\n",
    "\n",
    "in_all = True\n",
    "for id_unique in player_ids:\n",
    "    \n",
    "    if id_unique not in contract_ids:\n",
    "        in_all = False\n",
    "    elif id_unique not in game_ids:\n",
    "        in_all = False\n",
    "        \n",
    "    if in_all:\n",
    "        new_player_stats = new_player_stats.append(player_stats[player_stats.player_id==id_unique])\n",
    "        new_contract_stats = new_contract_stats.append(contract_stats[contract_stats.player_id==id_unique])\n",
    "        new_game_stats = new_game_stats.append(game_stats[game_stats.player_id==id_unique])\n",
    "        \n",
    "    in_all = True"
   ]
  },
  {
   "cell_type": "code",
   "execution_count": 36,
   "metadata": {},
   "outputs": [
    {
     "name": "stdout",
     "output_type": "stream",
     "text": [
      "Player Stats New/Old\n",
      "Shape (2516, 10) (1376, 10)\n",
      "Unique IDs 2516 1376\n",
      "\n",
      "Contract Stats New/Old\n",
      "Shape (4362, 8) (3997, 8)\n",
      "Unique IDs 1594 1376\n",
      "\n",
      "Game Stats New/Old\n",
      "Shape (8412, 110) (7976, 110)\n",
      "Unique IDs 1613 1376\n"
     ]
    }
   ],
   "source": [
    "print('Player Stats New/Old')\n",
    "print('Shape',player_stats.shape, new_player_stats.shape)\n",
    "print('Unique IDs',player_stats.player_id.nunique(), new_player_stats.player_id.nunique())\n",
    "\n",
    "print('\\nContract Stats New/Old')\n",
    "print('Shape', contract_stats.shape, new_contract_stats.shape)\n",
    "print('Unique IDs', contract_stats.player_id.nunique(), new_contract_stats.player_id.nunique())\n",
    "\n",
    "print('\\nGame Stats New/Old')\n",
    "print('Shape', game_stats.shape, new_game_stats.shape)\n",
    "print('Unique IDs', game_stats.player_id.nunique(), new_game_stats.player_id.nunique())"
   ]
  },
  {
   "cell_type": "code",
   "execution_count": 37,
   "metadata": {},
   "outputs": [],
   "source": [
    "new_player_stats.to_csv('./data/player_stats_matched.csv', index=False)\n",
    "new_contract_stats.to_csv('./data/contract_stats_matched.csv', index=False)\n",
    "new_game_stats.to_csv('./data/game_stats_matched.csv', index=False)"
   ]
  },
  {
   "cell_type": "markdown",
   "metadata": {},
   "source": [
    "# Scale Data\n",
    "\n",
    "The last thing we want to do is scale all of our data. \n",
    "\n",
    "* Many of the values are strictly positive. Use min-max scaling for these.\n",
    "* percentages will just be done by dividing by 100 (so the max may not be 1).\n",
    "* Some are both positive/negative. Use standard scaling here. "
   ]
  },
  {
   "cell_type": "code",
   "execution_count": null,
   "metadata": {},
   "outputs": [],
   "source": []
  }
 ],
 "metadata": {
  "kernelspec": {
   "display_name": "Python 3",
   "language": "python",
   "name": "python3"
  },
  "language_info": {
   "codemirror_mode": {
    "name": "ipython",
    "version": 3
   },
   "file_extension": ".py",
   "mimetype": "text/x-python",
   "name": "python",
   "nbconvert_exporter": "python",
   "pygments_lexer": "ipython3",
   "version": "3.6.8"
  }
 },
 "nbformat": 4,
 "nbformat_minor": 2
}
